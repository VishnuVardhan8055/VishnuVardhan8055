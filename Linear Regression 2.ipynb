{
 "cells": [
  {
   "cell_type": "markdown",
   "id": "c462ae43",
   "metadata": {},
   "source": [
    "Importing Libraries"
   ]
  },
  {
   "cell_type": "code",
   "execution_count": null,
   "id": "4619e912",
   "metadata": {},
   "outputs": [],
   "source": [
    "import pandas as pd\n",
    "import numpy as np\n",
    "from sklearn import linear_model\n",
    "import matplotlib.pyplot as plt\n",
    "import matplotlib.colors as cl"
   ]
  },
  {
   "cell_type": "markdown",
   "id": "45f82700",
   "metadata": {},
   "source": [
    "Read the data set"
   ]
  },
  {
   "cell_type": "code",
   "execution_count": null,
   "id": "867e9280",
   "metadata": {},
   "outputs": [],
   "source": [
    "df=pd.read_csv('data\\linear_2.csv')\n",
    "print(\"output_=\\n\",df.head())\n",
    "print(\"shape of df\",df.shape)"
   ]
  },
  {
   "cell_type": "markdown",
   "id": "467e8d1e",
   "metadata": {},
   "source": [
    "Plot the data set"
   ]
  },
  {
   "cell_type": "code",
   "execution_count": null,
   "id": "d185f346",
   "metadata": {},
   "outputs": [],
   "source": [
    "plt.xlabel('year')\n",
    "plt.ylabel('per capita income')\n",
    "plt.scatter(df.year,df.income,color='red', marker='+')\n",
    "plt.show()"
   ]
  },
  {
   "cell_type": "code",
   "execution_count": null,
   "id": "2bdfafcb",
   "metadata": {},
   "outputs": [],
   "source": [
    "year1=df[['year']]\n",
    "pci=df. income\n",
    "print(\"value in yearl: \\n\",year1)"
   ]
  },
  {
   "cell_type": "markdown",
   "id": "545dbdb1",
   "metadata": {},
   "source": [
    "Fit the model"
   ]
  },
  {
   "cell_type": "code",
   "execution_count": null,
   "id": "c1d24823",
   "metadata": {},
   "outputs": [],
   "source": [
    "reg=linear_model.LinearRegression()\n",
    "reg.fit(year1,pci)"
   ]
  },
  {
   "cell_type": "markdown",
   "id": "e024369a",
   "metadata": {},
   "source": [
    "Intercept and co-efficient value"
   ]
  },
  {
   "cell_type": "code",
   "execution_count": null,
   "id": "59e4cbcb",
   "metadata": {},
   "outputs": [],
   "source": [
    "print('m value=', reg.coef_)\n",
    "print('b value=',reg.intercept_)"
   ]
  },
  {
   "cell_type": "markdown",
   "id": "629a882c",
   "metadata": {},
   "source": [
    "Prediction by the model for new data"
   ]
  },
  {
   "cell_type": "code",
   "execution_count": null,
   "id": "32c45091",
   "metadata": {},
   "outputs": [],
   "source": [
    "print(\"output_2-\\n\", reg.predict([[2050]]))"
   ]
  },
  {
   "cell_type": "code",
   "execution_count": null,
   "id": "0b5d4b90",
   "metadata": {},
   "outputs": [],
   "source": [
    "y=reg.coef_*2050+reg.intercept_\n",
    "print (reg.coef_,'*',2050,'+', reg.intercept_,'=',y)"
   ]
  },
  {
   "cell_type": "code",
   "execution_count": null,
   "id": "9df5f017",
   "metadata": {},
   "outputs": [],
   "source": [
    "df=df.append({'year':2050,'income':float(reg.predict([[2021]]))},ignore_index=True)\n",
    "print(\"output_3=\\n\", df)\n"
   ]
  },
  {
   "cell_type": "code",
   "execution_count": null,
   "id": "417e374f",
   "metadata": {},
   "outputs": [],
   "source": [
    "plt.xlabel('year')\n",
    "plt.ylabel('income')\n",
    "plt.scatter(df.year,df.income,color='red',marker='+')\n",
    "plt.plot(df.year,reg.predict(df[['year']]),color='blue')\n",
    "plt.show()"
   ]
  },
  {
   "cell_type": "code",
   "execution_count": null,
   "id": "de3f0080",
   "metadata": {},
   "outputs": [],
   "source": []
  }
 ],
 "metadata": {
  "kernelspec": {
   "display_name": "Python 3 (ipykernel)",
   "language": "python",
   "name": "python3"
  },
  "language_info": {
   "codemirror_mode": {
    "name": "ipython",
    "version": 3
   },
   "file_extension": ".py",
   "mimetype": "text/x-python",
   "name": "python",
   "nbconvert_exporter": "python",
   "pygments_lexer": "ipython3",
   "version": "3.9.12"
  }
 },
 "nbformat": 4,
 "nbformat_minor": 5
}
