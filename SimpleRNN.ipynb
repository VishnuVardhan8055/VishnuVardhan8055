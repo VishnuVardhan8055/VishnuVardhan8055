{
 "cells": [
  {
   "cell_type": "markdown",
   "id": "5282b209",
   "metadata": {},
   "source": [
    "## Loading the required libraries"
   ]
  },
  {
   "cell_type": "code",
   "execution_count": null,
   "id": "286e31e9",
   "metadata": {},
   "outputs": [],
   "source": [
    "import pandas as pd\n",
    "import numpy as np\n",
    "import matplotlib.pyplot as plt\n",
    "from keras.models import Sequential\n",
    "from keras.layers import Dense,SimpleRNN"
   ]
  },
  {
   "cell_type": "markdown",
   "id": "875c39ec",
   "metadata": {},
   "source": [
    "## Generating sample dataset"
   ]
  },
  {
   "cell_type": "code",
   "execution_count": null,
   "id": "edb31a71",
   "metadata": {},
   "outputs": [],
   "source": [
    "N = 1000\n",
    "Tp = 800\n",
    "\n",
    "t=np.arange(0,N)\n",
    "x=np.sin(0.02*t)+2*np.random.rand(N)\n",
    "df= pd.DataFrame(x)\n",
    "df.head(20)"
   ]
  },
  {
   "cell_type": "markdown",
   "id": "7beb71f2",
   "metadata": {},
   "source": [
    "## Plot them"
   ]
  },
  {
   "cell_type": "code",
   "execution_count": null,
   "id": "cc7bf363",
   "metadata": {},
   "outputs": [],
   "source": [
    "plt.plot(df)\n",
    "plt.show"
   ]
  },
  {
   "cell_type": "code",
   "execution_count": null,
   "id": "324c1ef6",
   "metadata": {},
   "outputs": [],
   "source": [
    "#split 'df' dataset into a training and test parts.\n",
    "\n",
    "values = df.values\n",
    "train,test = values[0:Tp,:], values[Tp:N,:]\n",
    "#0 = Start. Tp = 800 For your training. N = 1000\n",
    "# is to represent step"
   ]
  },
  {
   "cell_type": "code",
   "execution_count": null,
   "id": "224911f8",
   "metadata": {},
   "outputs": [],
   "source": [
    "'''\n",
    "RNN model requires a step value that contains n number of elements as an input sequence. Here, we define it as a 'step' x has the following sequece data.\n",
    "x = [1,2,3,4,5,6,7,8,9,10]\n",
    "fro step=1, x input and its y prediction become:\n",
    "x  y\n",
    "1  2\n",
    "2  3\n",
    "3  4\n",
    "4  5\n",
    "...\n",
    "9  10\n",
    "\n",
    "for step=3, x and y contain:\n",
    "x      y\n",
    "1,2,3  4\n",
    "2,3,4  5\n",
    "3,4,5  6\n",
    "4,5,6  7\n",
    "....\n",
    "7,8,9  10\n",
    "\n",
    "As you have noticed the sizes of x input and y output become different. We'll fix it by adding step size into the train'''\n"
   ]
  },
  {
   "cell_type": "code",
   "execution_count": null,
   "id": "a4b978a4",
   "metadata": {},
   "outputs": [],
   "source": [
    "step = 4\n",
    "#add step elements into train and test\n",
    "test=np.append(test,np.repeat(test[-1,],step))\n",
    "train=np.append(train,np.repeat(train[-1,],step))"
   ]
  },
  {
   "cell_type": "markdown",
   "id": "52e27dda",
   "metadata": {},
   "source": [
    "## convert into dataset matrix"
   ]
  },
  {
   "cell_type": "code",
   "execution_count": null,
   "id": "dfa42e23",
   "metadata": {},
   "outputs": [],
   "source": [
    "def convertToMatrix(data, step):\n",
    "    X,Y = [],[]\n",
    "    for i in range(len(data)-step):\n",
    "        d=i+step\n",
    "        X.append(data[i:d,])\n",
    "        Y.append(data[d,])\n",
    "    return np.array(X), np.array(Y)\n",
    "\n",
    "trainX,trainY = convertToMatrix(train,step)\n",
    "testX,testY = convertToMatrix(test,step)"
   ]
  },
  {
   "cell_type": "code",
   "execution_count": null,
   "id": "530e8748",
   "metadata": {},
   "outputs": [],
   "source": [
    "#reshape trainX and testX to fit with Keras model. RNN model requires three-dimensional input data\n",
    "trainX = np.reshape(trainX,(trainX.shape[0],1,trainX.shape[1]))\n",
    "testX = np.reshape(testX,(testX.shape[0],1,testX.shape[1]))\n",
    "trainX.shape\n",
    "testX.shape"
   ]
  },
  {
   "cell_type": "markdown",
   "id": "6cb7fefa",
   "metadata": {},
   "source": [
    "## Building a model with SimpleRNN"
   ]
  },
  {
   "cell_type": "code",
   "execution_count": null,
   "id": "b0a9666a",
   "metadata": {},
   "outputs": [],
   "source": [
    "# SimpleRNN model\n",
    "model = Sequential()\n",
    "model.add(SimpleRNN(units=32, input_shape=(1,step),activation=\"relu\"))\n",
    "model.add(Dense(8, activation=\"relu\"))\n",
    "model.add(Dense(1))\n",
    "model.compile(loss='mean_squared_error',optimizer='rmsprop')\n",
    "model.summary"
   ]
  },
  {
   "cell_type": "markdown",
   "id": "f70bd290",
   "metadata": {},
   "source": [
    "## Predicting and plotting the result"
   ]
  },
  {
   "cell_type": "code",
   "execution_count": null,
   "id": "4d51d597",
   "metadata": {},
   "outputs": [],
   "source": [
    "#Fit model with trainX data and predict testX data\n",
    "\n",
    "model.fit(trainX,trainY, epochs=100, batch_size=16, verbose=2)\n",
    "trainPredict = model.predict(trainX)\n",
    "testPredict= model.predict(testX)\n",
    "predicted = np.concatenate((trainPredict,testPredict),axis=0)"
   ]
  },
  {
   "cell_type": "markdown",
   "id": "39fd936b",
   "metadata": {},
   "source": [
    "## check the loss"
   ]
  },
  {
   "cell_type": "code",
   "execution_count": null,
   "id": "e7dd10e7",
   "metadata": {},
   "outputs": [],
   "source": [
    "trainScore = model.evaluate(trainX, trainY, verbose=0)\n",
    "print(trainScore)"
   ]
  }
 ],
 "metadata": {
  "kernelspec": {
   "display_name": "Python 3 (ipykernel)",
   "language": "python",
   "name": "python3"
  },
  "language_info": {
   "codemirror_mode": {
    "name": "ipython",
    "version": 3
   },
   "file_extension": ".py",
   "mimetype": "text/x-python",
   "name": "python",
   "nbconvert_exporter": "python",
   "pygments_lexer": "ipython3",
   "version": "3.9.12"
  }
 },
 "nbformat": 4,
 "nbformat_minor": 5
}
