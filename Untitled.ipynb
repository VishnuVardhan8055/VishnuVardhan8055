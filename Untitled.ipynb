{
 "cells": [
  {
   "cell_type": "code",
   "execution_count": null,
   "id": "810d615b-3df7-4f47-8d33-6c2cddfc5384",
   "metadata": {},
   "outputs": [],
   "source": [
    "from transformers import GPT2LMHeadModel, GPT2Tokenizer"
   ]
  },
  {
   "cell_type": "code",
   "execution_count": null,
   "id": "fee8e42a-e4d3-4c42-a4a3-5433e9fa7993",
   "metadata": {},
   "outputs": [],
   "source": [
    "model_name = \"gpt2\"  # Choose a specific variant (e.g., gpt2-medium)\n",
    "model = GPT2LMHeadModel.from_pretrained(model_name)\n",
    "tokenizer = GPT2Tokenizer.from_pretrained(model_name)"
   ]
  },
  {
   "cell_type": "code",
   "execution_count": null,
   "id": "c3e84c88-35ea-41fa-9119-a6843e1ba929",
   "metadata": {},
   "outputs": [],
   "source": [
    "user_prompt = \"Tell me a joke:\""
   ]
  },
  {
   "cell_type": "code",
   "execution_count": null,
   "id": "a93793c7-b1f0-48ba-96e3-fb8c5b546e64",
   "metadata": {},
   "outputs": [],
   "source": [
    "# Generate response\n",
    "input_ids = tokenizer.encode(user_prompt, return_tensors=\"pt\")\n",
    "output = model.generate(input_ids, max_length=50, num_return_sequences=1)\n",
    "response = tokenizer.decode(output[0], skip_special_tokens=True)\n",
    "\n",
    "print(\"AI's response:\", response)"
   ]
  },
  {
   "cell_type": "code",
   "execution_count": null,
   "id": "5905a9c0-0844-4a29-b3e8-d11b84bd3d64",
   "metadata": {},
   "outputs": [],
   "source": []
  }
 ],
 "metadata": {
  "kernelspec": {
   "display_name": "Python 3 (ipykernel)",
   "language": "python",
   "name": "python3"
  },
  "language_info": {
   "codemirror_mode": {
    "name": "ipython",
    "version": 3
   },
   "file_extension": ".py",
   "mimetype": "text/x-python",
   "name": "python",
   "nbconvert_exporter": "python",
   "pygments_lexer": "ipython3",
   "version": "3.11.3"
  }
 },
 "nbformat": 4,
 "nbformat_minor": 5
}
